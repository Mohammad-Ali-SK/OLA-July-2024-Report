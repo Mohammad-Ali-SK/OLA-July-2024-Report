{
 "cells": [
  {
   "cell_type": "code",
   "execution_count": 40,
   "metadata": {},
   "outputs": [],
   "source": [
    "import pandas as pd\n",
    "import numpy as np\n",
    "import matplotlib.pyplot as plt\n",
    "import seaborn as sns"
   ]
  },
  {
   "cell_type": "markdown",
   "metadata": {},
   "source": [
    "## Connect SQL"
   ]
  },
  {
   "cell_type": "code",
   "execution_count": 41,
   "metadata": {},
   "outputs": [
    {
     "name": "stdout",
     "output_type": "stream",
     "text": [
      "('PostgreSQL 17.0 on x86_64-windows, compiled by msvc-19.41.34120, 64-bit',)\n"
     ]
    }
   ],
   "source": [
    "import psycopg2\n",
    "\n",
    "# Define connection parameters\n",
    "conn = psycopg2.connect(\n",
    "    host=\"localhost\",\n",
    "    user=\"postgres\",\n",
    "    password=\"mohammad\",\n",
    "    dbname=\"OLA\",\n",
    "    port=\"5432\"  # PostgreSQL default port is 5432\n",
    ")\n",
    "\n",
    "# Create a cursor to interact with the database\n",
    "cur = conn.cursor()\n",
    "\n",
    "# Example: Run a query\n",
    "cur.execute(\"SELECT version();\")\n",
    "print(cur.fetchone())"
   ]
  },
  {
   "cell_type": "markdown",
   "metadata": {},
   "source": [
    "## 1. Retrieve all successful bookings:"
   ]
  },
  {
   "cell_type": "code",
   "execution_count": 42,
   "metadata": {},
   "outputs": [
    {
     "data": {
      "text/html": [
       "<div>\n",
       "<style scoped>\n",
       "    .dataframe tbody tr th:only-of-type {\n",
       "        vertical-align: middle;\n",
       "    }\n",
       "\n",
       "    .dataframe tbody tr th {\n",
       "        vertical-align: top;\n",
       "    }\n",
       "\n",
       "    .dataframe thead th {\n",
       "        text-align: right;\n",
       "    }\n",
       "</style>\n",
       "<table border=\"1\" class=\"dataframe\">\n",
       "  <thead>\n",
       "    <tr style=\"text-align: right;\">\n",
       "      <th></th>\n",
       "      <th>Date</th>\n",
       "      <th>Time</th>\n",
       "      <th>Booking_ID</th>\n",
       "      <th>Booking_Status</th>\n",
       "      <th>Customer_ID</th>\n",
       "      <th>Vehicle_Type</th>\n",
       "      <th>Pickup_Location</th>\n",
       "      <th>Drop_Location</th>\n",
       "      <th>V_TAT</th>\n",
       "      <th>C_TAT</th>\n",
       "      <th>Canceled_Rides_by_Customer</th>\n",
       "      <th>Canceled_Rides_by_Driver</th>\n",
       "      <th>Incomplete_Rides</th>\n",
       "      <th>Incomplete_Rides_Reason</th>\n",
       "      <th>Booking_Value</th>\n",
       "      <th>Payment_Method</th>\n",
       "      <th>Ride_Distance</th>\n",
       "      <th>Driver_Ratings</th>\n",
       "      <th>Customer_Rating</th>\n",
       "      <th>Vehicle Images</th>\n",
       "    </tr>\n",
       "  </thead>\n",
       "  <tbody>\n",
       "    <tr>\n",
       "      <th>0</th>\n",
       "      <td>2024-07-25 22:20:00</td>\n",
       "      <td>22:20:00</td>\n",
       "      <td>CNR2940424040</td>\n",
       "      <td>Success</td>\n",
       "      <td>CID225428</td>\n",
       "      <td>Bike</td>\n",
       "      <td>Magadi Road</td>\n",
       "      <td>Varthur</td>\n",
       "      <td>203.0</td>\n",
       "      <td>30.0</td>\n",
       "      <td>None</td>\n",
       "      <td>None</td>\n",
       "      <td>No</td>\n",
       "      <td>None</td>\n",
       "      <td>158</td>\n",
       "      <td>Cash</td>\n",
       "      <td>13</td>\n",
       "      <td>4.1</td>\n",
       "      <td>4.0</td>\n",
       "      <td>https://cdn-icons-png.flaticon.com/128/9983/99...</td>\n",
       "    </tr>\n",
       "    <tr>\n",
       "      <th>1</th>\n",
       "      <td>2024-07-30 19:59:00</td>\n",
       "      <td>19:59:00</td>\n",
       "      <td>CNR2982357879</td>\n",
       "      <td>Success</td>\n",
       "      <td>CID270156</td>\n",
       "      <td>Prime SUV</td>\n",
       "      <td>Sahakar Nagar</td>\n",
       "      <td>Varthur</td>\n",
       "      <td>238.0</td>\n",
       "      <td>130.0</td>\n",
       "      <td>None</td>\n",
       "      <td>None</td>\n",
       "      <td>No</td>\n",
       "      <td>None</td>\n",
       "      <td>386</td>\n",
       "      <td>UPI</td>\n",
       "      <td>40</td>\n",
       "      <td>4.2</td>\n",
       "      <td>4.8</td>\n",
       "      <td>https://cdn-icons-png.flaticon.com/128/9983/99...</td>\n",
       "    </tr>\n",
       "    <tr>\n",
       "      <th>2</th>\n",
       "      <td>2024-07-02 09:02:00</td>\n",
       "      <td>09:02:00</td>\n",
       "      <td>CNR1797421769</td>\n",
       "      <td>Success</td>\n",
       "      <td>CID939555</td>\n",
       "      <td>Mini</td>\n",
       "      <td>Rajajinagar</td>\n",
       "      <td>Chamarajpet</td>\n",
       "      <td>252.0</td>\n",
       "      <td>80.0</td>\n",
       "      <td>None</td>\n",
       "      <td>None</td>\n",
       "      <td>No</td>\n",
       "      <td>None</td>\n",
       "      <td>822</td>\n",
       "      <td>Credit Card</td>\n",
       "      <td>45</td>\n",
       "      <td>4.0</td>\n",
       "      <td>3.0</td>\n",
       "      <td>https://cdn-icons-png.flaticon.com/128/3202/32...</td>\n",
       "    </tr>\n",
       "  </tbody>\n",
       "</table>\n",
       "</div>"
      ],
      "text/plain": [
       "                 Date      Time     Booking_ID Booking_Status Customer_ID  \\\n",
       "0 2024-07-25 22:20:00  22:20:00  CNR2940424040        Success   CID225428   \n",
       "1 2024-07-30 19:59:00  19:59:00  CNR2982357879        Success   CID270156   \n",
       "2 2024-07-02 09:02:00  09:02:00  CNR1797421769        Success   CID939555   \n",
       "\n",
       "  Vehicle_Type Pickup_Location Drop_Location  V_TAT  C_TAT  \\\n",
       "0         Bike     Magadi Road       Varthur  203.0   30.0   \n",
       "1    Prime SUV   Sahakar Nagar       Varthur  238.0  130.0   \n",
       "2         Mini     Rajajinagar   Chamarajpet  252.0   80.0   \n",
       "\n",
       "  Canceled_Rides_by_Customer Canceled_Rides_by_Driver Incomplete_Rides  \\\n",
       "0                       None                     None               No   \n",
       "1                       None                     None               No   \n",
       "2                       None                     None               No   \n",
       "\n",
       "  Incomplete_Rides_Reason  Booking_Value Payment_Method  Ride_Distance  \\\n",
       "0                    None            158           Cash             13   \n",
       "1                    None            386            UPI             40   \n",
       "2                    None            822    Credit Card             45   \n",
       "\n",
       "   Driver_Ratings  Customer_Rating  \\\n",
       "0             4.1              4.0   \n",
       "1             4.2              4.8   \n",
       "2             4.0              3.0   \n",
       "\n",
       "                                      Vehicle Images  \n",
       "0  https://cdn-icons-png.flaticon.com/128/9983/99...  \n",
       "1  https://cdn-icons-png.flaticon.com/128/9983/99...  \n",
       "2  https://cdn-icons-png.flaticon.com/128/3202/32...  "
      ]
     },
     "execution_count": 42,
     "metadata": {},
     "output_type": "execute_result"
    }
   ],
   "source": [
    "query = \"\"\"select * from bookings where \"Booking_Status\" = 'Success'\"\"\"\n",
    "cur.execute(query)\n",
    "data = cur.fetchall()\n",
    "successful_booking = pd.DataFrame(data, columns=['Date',\n",
    " 'Time',\n",
    " 'Booking_ID',\n",
    " 'Booking_Status',\n",
    " 'Customer_ID',\n",
    " 'Vehicle_Type',\n",
    " 'Pickup_Location',\n",
    " 'Drop_Location',\n",
    " 'V_TAT',\n",
    " 'C_TAT',\n",
    " 'Canceled_Rides_by_Customer',\n",
    " 'Canceled_Rides_by_Driver',\n",
    " 'Incomplete_Rides',\n",
    " 'Incomplete_Rides_Reason',\n",
    " 'Booking_Value',\n",
    " 'Payment_Method',\n",
    " 'Ride_Distance',\n",
    " 'Driver_Ratings',\n",
    " 'Customer_Rating',\n",
    " 'Vehicle Images'])\n",
    "successful_booking.head(3)"
   ]
  },
  {
   "cell_type": "markdown",
   "metadata": {},
   "source": [
    "## 2. Find the average ride distance for each vehicle type:"
   ]
  },
  {
   "cell_type": "code",
   "execution_count": 43,
   "metadata": {},
   "outputs": [
    {
     "data": {
      "text/html": [
       "<div>\n",
       "<style scoped>\n",
       "    .dataframe tbody tr th:only-of-type {\n",
       "        vertical-align: middle;\n",
       "    }\n",
       "\n",
       "    .dataframe tbody tr th {\n",
       "        vertical-align: top;\n",
       "    }\n",
       "\n",
       "    .dataframe thead th {\n",
       "        text-align: right;\n",
       "    }\n",
       "</style>\n",
       "<table border=\"1\" class=\"dataframe\">\n",
       "  <thead>\n",
       "    <tr style=\"text-align: right;\">\n",
       "      <th></th>\n",
       "      <th>vihicle_type</th>\n",
       "      <th>avg_distance</th>\n",
       "    </tr>\n",
       "  </thead>\n",
       "  <tbody>\n",
       "    <tr>\n",
       "      <th>0</th>\n",
       "      <td>Auto</td>\n",
       "      <td>6.24</td>\n",
       "    </tr>\n",
       "    <tr>\n",
       "      <th>1</th>\n",
       "      <td>Bike</td>\n",
       "      <td>15.53</td>\n",
       "    </tr>\n",
       "    <tr>\n",
       "      <th>2</th>\n",
       "      <td>eBike</td>\n",
       "      <td>15.58</td>\n",
       "    </tr>\n",
       "    <tr>\n",
       "      <th>3</th>\n",
       "      <td>Mini</td>\n",
       "      <td>15.51</td>\n",
       "    </tr>\n",
       "    <tr>\n",
       "      <th>4</th>\n",
       "      <td>Prime Plus</td>\n",
       "      <td>15.45</td>\n",
       "    </tr>\n",
       "    <tr>\n",
       "      <th>5</th>\n",
       "      <td>Prime Sedan</td>\n",
       "      <td>15.76</td>\n",
       "    </tr>\n",
       "    <tr>\n",
       "      <th>6</th>\n",
       "      <td>Prime SUV</td>\n",
       "      <td>15.27</td>\n",
       "    </tr>\n",
       "  </tbody>\n",
       "</table>\n",
       "</div>"
      ],
      "text/plain": [
       "  vihicle_type avg_distance\n",
       "0         Auto         6.24\n",
       "1         Bike        15.53\n",
       "2        eBike        15.58\n",
       "3         Mini        15.51\n",
       "4   Prime Plus        15.45\n",
       "5  Prime Sedan        15.76\n",
       "6    Prime SUV        15.27"
      ]
     },
     "execution_count": 43,
     "metadata": {},
     "output_type": "execute_result"
    }
   ],
   "source": [
    "query = \"\"\"select \"Vehicle_Type\" as vihicle_type,\n",
    "round(avg(\"Ride_Distance\")::numeric,2) as avg_distance\n",
    "from bookings\n",
    "group by \"Vehicle_Type\" \"\"\"\n",
    "\n",
    "cur.execute(query)\n",
    "data = cur.fetchall()\n",
    "avg_ride_distance = pd.DataFrame(data, columns=['vihicle_type','avg_distance'])\n",
    "avg_ride_distance\n"
   ]
  },
  {
   "cell_type": "markdown",
   "metadata": {},
   "source": [
    "## 3. Get the total number of cancelled rides by customers:"
   ]
  },
  {
   "cell_type": "code",
   "execution_count": 44,
   "metadata": {},
   "outputs": [
    {
     "name": "stdout",
     "output_type": "stream",
     "text": [
      "Total Number of Cancelled rides by customers : 20998\n"
     ]
    }
   ],
   "source": [
    "query = \"\"\" select count(\"Booking_Status\") as cancelled_by_customer from bookings where \"Booking_Status\" = 'Canceled by Customer' \"\"\"\n",
    "cur.execute(query)\n",
    "data = cur.fetchall()\n",
    "print(f\"Total Number of Cancelled rides by customers : {data[0][0]}\")"
   ]
  },
  {
   "cell_type": "markdown",
   "metadata": {},
   "source": [
    "## 4. List the top 5 customers who booked the highest number of rides:"
   ]
  },
  {
   "cell_type": "code",
   "execution_count": 45,
   "metadata": {},
   "outputs": [
    {
     "data": {
      "image/png": "[encoded data removed]",
      "text/plain": [
       "<Figure size 640x480 with 1 Axes>"
      ]
     },
     "metadata": {},
     "output_type": "display_data"
    }
   ],
   "source": [
    "query = \"\"\" select \"Customer_ID\" as cust_id, count(\"Booking_ID\") as booking_id from bookings\n",
    "group by cust_id\n",
    "order by booking_id desc limit 5 \"\"\"\n",
    "\n",
    "cur.execute(query)\n",
    "data = cur.fetchall()\n",
    "highest_cust = pd.DataFrame(data,columns=['cust_id','no_booking'])\n",
    "ax = sns.barplot(data=highest_cust,x='cust_id',y='no_booking')\n",
    "for col in ax.containers:\n",
    "    ax.bar_label(col)\n"
   ]
  },
  {
   "cell_type": "markdown",
   "metadata": {},
   "source": [
    "## 5. Get the number of rides cancelled by drivers due to personal and car-related issues:"
   ]
  },
  {
   "cell_type": "code",
   "execution_count": 46,
   "metadata": {},
   "outputs": [
    {
     "name": "stdout",
     "output_type": "stream",
     "text": [
      "Total Number of Cancelled rides by drivers : 13084\n"
     ]
    }
   ],
   "source": [
    "query = \"\"\" select count(*) as cancelled_by_drivers from bookings\n",
    "where \"Canceled_Rides_by_Driver\" = 'Personal & Car related issue' \"\"\"\n",
    "cur.execute(query)\n",
    "data = cur.fetchall()\n",
    "print(f\"Total Number of Cancelled rides by drivers : {data[0][0]}\")"
   ]
  },
  {
   "cell_type": "markdown",
   "metadata": {},
   "source": [
    "##  6. Find the maximum and minimum driver ratings for Prime Sedan bookings:"
   ]
  },
  {
   "cell_type": "code",
   "execution_count": 47,
   "metadata": {},
   "outputs": [
    {
     "data": {
      "text/html": [
       "<div>\n",
       "<style scoped>\n",
       "    .dataframe tbody tr th:only-of-type {\n",
       "        vertical-align: middle;\n",
       "    }\n",
       "\n",
       "    .dataframe tbody tr th {\n",
       "        vertical-align: top;\n",
       "    }\n",
       "\n",
       "    .dataframe thead th {\n",
       "        text-align: right;\n",
       "    }\n",
       "</style>\n",
       "<table border=\"1\" class=\"dataframe\">\n",
       "  <thead>\n",
       "    <tr style=\"text-align: right;\">\n",
       "      <th></th>\n",
       "      <th>Max_Rating</th>\n",
       "      <th>Min_Rating</th>\n",
       "    </tr>\n",
       "  </thead>\n",
       "  <tbody>\n",
       "    <tr>\n",
       "      <th>0</th>\n",
       "      <td>5.0</td>\n",
       "      <td>3.0</td>\n",
       "    </tr>\n",
       "  </tbody>\n",
       "</table>\n",
       "</div>"
      ],
      "text/plain": [
       "   Max_Rating  Min_Rating\n",
       "0         5.0         3.0"
      ]
     },
     "execution_count": 47,
     "metadata": {},
     "output_type": "execute_result"
    }
   ],
   "source": [
    "query = \"\"\" select max(\"Driver_Ratings\"),min(\"Driver_Ratings\") from bookings where \"Vehicle_Type\" = 'Prime Sedan' \"\"\"\n",
    "cur.execute(query)\n",
    "data = cur.fetchall()\n",
    "Prime_Sedan = pd.DataFrame(data, columns=['Max_Rating', 'Min_Rating'])\n",
    "Prime_Sedan"
   ]
  },
  {
   "cell_type": "markdown",
   "metadata": {},
   "source": [
    "## 7. Retrieve all rides where payment was made using UPI:"
   ]
  },
  {
   "cell_type": "code",
   "execution_count": 48,
   "metadata": {},
   "outputs": [
    {
     "data": {
      "text/html": [
       "<div>\n",
       "<style scoped>\n",
       "    .dataframe tbody tr th:only-of-type {\n",
       "        vertical-align: middle;\n",
       "    }\n",
       "\n",
       "    .dataframe tbody tr th {\n",
       "        vertical-align: top;\n",
       "    }\n",
       "\n",
       "    .dataframe thead th {\n",
       "        text-align: right;\n",
       "    }\n",
       "</style>\n",
       "<table border=\"1\" class=\"dataframe\">\n",
       "  <thead>\n",
       "    <tr style=\"text-align: right;\">\n",
       "      <th></th>\n",
       "      <th>Date</th>\n",
       "      <th>Time</th>\n",
       "      <th>Booking_ID</th>\n",
       "      <th>Booking_Status</th>\n",
       "      <th>Customer_ID</th>\n",
       "      <th>Vehicle_Type</th>\n",
       "      <th>Pickup_Location</th>\n",
       "      <th>Drop_Location</th>\n",
       "      <th>V_TAT</th>\n",
       "      <th>C_TAT</th>\n",
       "      <th>Canceled_Rides_by_Customer</th>\n",
       "      <th>Canceled_Rides_by_Driver</th>\n",
       "      <th>Incomplete_Rides</th>\n",
       "      <th>Incomplete_Rides_Reason</th>\n",
       "      <th>Booking_Value</th>\n",
       "      <th>Payment_Method</th>\n",
       "      <th>Ride_Distance</th>\n",
       "      <th>Driver_Ratings</th>\n",
       "      <th>Customer_Rating</th>\n",
       "      <th>Vehicle Images</th>\n",
       "    </tr>\n",
       "  </thead>\n",
       "  <tbody>\n",
       "    <tr>\n",
       "      <th>0</th>\n",
       "      <td>2024-07-30 19:59:00</td>\n",
       "      <td>19:59:00</td>\n",
       "      <td>CNR2982357879</td>\n",
       "      <td>Success</td>\n",
       "      <td>CID270156</td>\n",
       "      <td>Prime SUV</td>\n",
       "      <td>Sahakar Nagar</td>\n",
       "      <td>Varthur</td>\n",
       "      <td>238.0</td>\n",
       "      <td>130.0</td>\n",
       "      <td>None</td>\n",
       "      <td>None</td>\n",
       "      <td>No</td>\n",
       "      <td>None</td>\n",
       "      <td>386</td>\n",
       "      <td>UPI</td>\n",
       "      <td>40</td>\n",
       "      <td>4.2</td>\n",
       "      <td>4.8</td>\n",
       "      <td>https://cdn-icons-png.flaticon.com/128/9983/99...</td>\n",
       "    </tr>\n",
       "    <tr>\n",
       "      <th>1</th>\n",
       "      <td>2024-07-13 04:42:00</td>\n",
       "      <td>04:42:00</td>\n",
       "      <td>CNR8787177882</td>\n",
       "      <td>Success</td>\n",
       "      <td>CID802429</td>\n",
       "      <td>Mini</td>\n",
       "      <td>Kadugodi</td>\n",
       "      <td>Vijayanagar</td>\n",
       "      <td>231.0</td>\n",
       "      <td>90.0</td>\n",
       "      <td>None</td>\n",
       "      <td>None</td>\n",
       "      <td>No</td>\n",
       "      <td>None</td>\n",
       "      <td>173</td>\n",
       "      <td>UPI</td>\n",
       "      <td>41</td>\n",
       "      <td>3.4</td>\n",
       "      <td>4.6</td>\n",
       "      <td>https://cdn-icons-png.flaticon.com/128/3202/32...</td>\n",
       "    </tr>\n",
       "    <tr>\n",
       "      <th>2</th>\n",
       "      <td>2024-07-27 13:18:00</td>\n",
       "      <td>13:18:00</td>\n",
       "      <td>CNR4524472111</td>\n",
       "      <td>Success</td>\n",
       "      <td>CID540929</td>\n",
       "      <td>Auto</td>\n",
       "      <td>Cox Town</td>\n",
       "      <td>Yelahanka</td>\n",
       "      <td>126.0</td>\n",
       "      <td>35.0</td>\n",
       "      <td>None</td>\n",
       "      <td>None</td>\n",
       "      <td>No</td>\n",
       "      <td>None</td>\n",
       "      <td>330</td>\n",
       "      <td>UPI</td>\n",
       "      <td>8</td>\n",
       "      <td>3.0</td>\n",
       "      <td>4.8</td>\n",
       "      <td>https://cdn-icons-png.flaticon.com/128/16526/1...</td>\n",
       "    </tr>\n",
       "  </tbody>\n",
       "</table>\n",
       "</div>"
      ],
      "text/plain": [
       "                 Date      Time     Booking_ID Booking_Status Customer_ID  \\\n",
       "0 2024-07-30 19:59:00  19:59:00  CNR2982357879        Success   CID270156   \n",
       "1 2024-07-13 04:42:00  04:42:00  CNR8787177882        Success   CID802429   \n",
       "2 2024-07-27 13:18:00  13:18:00  CNR4524472111        Success   CID540929   \n",
       "\n",
       "  Vehicle_Type Pickup_Location Drop_Location  V_TAT  C_TAT  \\\n",
       "0    Prime SUV   Sahakar Nagar       Varthur  238.0  130.0   \n",
       "1         Mini        Kadugodi   Vijayanagar  231.0   90.0   \n",
       "2         Auto        Cox Town     Yelahanka  126.0   35.0   \n",
       "\n",
       "  Canceled_Rides_by_Customer Canceled_Rides_by_Driver Incomplete_Rides  \\\n",
       "0                       None                     None               No   \n",
       "1                       None                     None               No   \n",
       "2                       None                     None               No   \n",
       "\n",
       "  Incomplete_Rides_Reason  Booking_Value Payment_Method  Ride_Distance  \\\n",
       "0                    None            386            UPI             40   \n",
       "1                    None            173            UPI             41   \n",
       "2                    None            330            UPI              8   \n",
       "\n",
       "   Driver_Ratings  Customer_Rating  \\\n",
       "0             4.2              4.8   \n",
       "1             3.4              4.6   \n",
       "2             3.0              4.8   \n",
       "\n",
       "                                      Vehicle Images  \n",
       "0  https://cdn-icons-png.flaticon.com/128/9983/99...  \n",
       "1  https://cdn-icons-png.flaticon.com/128/3202/32...  \n",
       "2  https://cdn-icons-png.flaticon.com/128/16526/1...  "
      ]
     },
     "execution_count": 48,
     "metadata": {},
     "output_type": "execute_result"
    }
   ],
   "source": [
    "query = \"\"\" select * from UPI_payment;\n",
    "\"\"\"\n",
    "cur.execute(query)\n",
    "data = cur.fetchall()\n",
    "upi_pay = pd.DataFrame(data, columns=['Date',\n",
    " 'Time',\n",
    " 'Booking_ID',\n",
    " 'Booking_Status',\n",
    " 'Customer_ID',\n",
    " 'Vehicle_Type',\n",
    " 'Pickup_Location',\n",
    " 'Drop_Location',\n",
    " 'V_TAT',\n",
    " 'C_TAT',\n",
    " 'Canceled_Rides_by_Customer',\n",
    " 'Canceled_Rides_by_Driver',\n",
    " 'Incomplete_Rides',\n",
    " 'Incomplete_Rides_Reason',\n",
    " 'Booking_Value',\n",
    " 'Payment_Method',\n",
    " 'Ride_Distance',\n",
    " 'Driver_Ratings',\n",
    " 'Customer_Rating',\n",
    " 'Vehicle Images'])\n",
    "upi_pay.head(3)"
   ]
  },
  {
   "cell_type": "markdown",
   "metadata": {},
   "source": [
    "## 8. Find the average customer rating per vehicle type:"
   ]
  },
  {
   "cell_type": "code",
   "execution_count": 54,
   "metadata": {},
   "outputs": [
    {
     "data": {
      "image/png": "[encoded data removed]",
      "text/plain": [
       "<Figure size 1000x500 with 1 Axes>"
      ]
     },
     "metadata": {},
     "output_type": "display_data"
    }
   ],
   "source": [
    "query = \"\"\"select \"Vehicle_Type\", round(avg(\"Customer_Rating\")::numeric,2) as cust_rating from bookings\n",
    "group by \"Vehicle_Type\"\n",
    "\"\"\"\n",
    "cur.execute(query)\n",
    "data = cur.fetchall()\n",
    "avg_rating = pd.DataFrame(data,columns=['vehicle_type','avg_rating'])\n",
    "plt.figure(figsize=(10,5))\n",
    "ax = sns.barplot(data=avg_rating,y='avg_rating',x='vehicle_type')\n",
    "for col in ax.containers:\n",
    "    ax.bar_label(col)"
   ]
  },
  {
   "cell_type": "markdown",
   "metadata": {},
   "source": [
    "## 9. Calculate the total booking value of rides completed successfully:"
   ]
  },
  {
   "cell_type": "code",
   "execution_count": 55,
   "metadata": {},
   "outputs": [
    {
     "name": "stdout",
     "output_type": "stream",
     "text": [
      "Total booking value: 70160934\n"
     ]
    }
   ],
   "source": [
    "query = \"\"\"select sum(\"Booking_Value\") from successful_booking\"\"\"\n",
    "cur.execute(query)\n",
    "data = cur.fetchall()\n",
    "print(f\"Total booking value: {data[0][0]}\")"
   ]
  },
  {
   "cell_type": "markdown",
   "metadata": {},
   "source": [
    "## 10. List all incomplete rides along with the reason:"
   ]
  },
  {
   "cell_type": "code",
   "execution_count": 56,
   "metadata": {},
   "outputs": [
    {
     "data": {
      "text/html": [
       "<div>\n",
       "<style scoped>\n",
       "    .dataframe tbody tr th:only-of-type {\n",
       "        vertical-align: middle;\n",
       "    }\n",
       "\n",
       "    .dataframe tbody tr th {\n",
       "        vertical-align: top;\n",
       "    }\n",
       "\n",
       "    .dataframe thead th {\n",
       "        text-align: right;\n",
       "    }\n",
       "</style>\n",
       "<table border=\"1\" class=\"dataframe\">\n",
       "  <thead>\n",
       "    <tr style=\"text-align: right;\">\n",
       "      <th></th>\n",
       "      <th>Booking_id</th>\n",
       "      <th>Incomplete_rides_reasons</th>\n",
       "    </tr>\n",
       "  </thead>\n",
       "  <tbody>\n",
       "    <tr>\n",
       "      <th>0</th>\n",
       "      <td>CNR5837509618</td>\n",
       "      <td>Vehicle Breakdown</td>\n",
       "    </tr>\n",
       "    <tr>\n",
       "      <th>1</th>\n",
       "      <td>CNR4865399468</td>\n",
       "      <td>Vehicle Breakdown</td>\n",
       "    </tr>\n",
       "    <tr>\n",
       "      <th>2</th>\n",
       "      <td>CNR9358327485</td>\n",
       "      <td>Vehicle Breakdown</td>\n",
       "    </tr>\n",
       "    <tr>\n",
       "      <th>3</th>\n",
       "      <td>CNR8842400080</td>\n",
       "      <td>Vehicle Breakdown</td>\n",
       "    </tr>\n",
       "    <tr>\n",
       "      <th>4</th>\n",
       "      <td>CNR6389750655</td>\n",
       "      <td>Customer Demand</td>\n",
       "    </tr>\n",
       "    <tr>\n",
       "      <th>...</th>\n",
       "      <td>...</td>\n",
       "      <td>...</td>\n",
       "    </tr>\n",
       "    <tr>\n",
       "      <th>3921</th>\n",
       "      <td>CNR5736603986</td>\n",
       "      <td>Other Issue</td>\n",
       "    </tr>\n",
       "    <tr>\n",
       "      <th>3922</th>\n",
       "      <td>CNR7606539545</td>\n",
       "      <td>Vehicle Breakdown</td>\n",
       "    </tr>\n",
       "    <tr>\n",
       "      <th>3923</th>\n",
       "      <td>CNR2988966473</td>\n",
       "      <td>Vehicle Breakdown</td>\n",
       "    </tr>\n",
       "    <tr>\n",
       "      <th>3924</th>\n",
       "      <td>CNR7028327052</td>\n",
       "      <td>Customer Demand</td>\n",
       "    </tr>\n",
       "    <tr>\n",
       "      <th>3925</th>\n",
       "      <td>CNR6009047264</td>\n",
       "      <td>Other Issue</td>\n",
       "    </tr>\n",
       "  </tbody>\n",
       "</table>\n",
       "<p>3926 rows × 2 columns</p>\n",
       "</div>"
      ],
      "text/plain": [
       "         Booking_id Incomplete_rides_reasons\n",
       "0     CNR5837509618        Vehicle Breakdown\n",
       "1     CNR4865399468        Vehicle Breakdown\n",
       "2     CNR9358327485        Vehicle Breakdown\n",
       "3     CNR8842400080        Vehicle Breakdown\n",
       "4     CNR6389750655          Customer Demand\n",
       "...             ...                      ...\n",
       "3921  CNR5736603986              Other Issue\n",
       "3922  CNR7606539545        Vehicle Breakdown\n",
       "3923  CNR2988966473        Vehicle Breakdown\n",
       "3924  CNR7028327052          Customer Demand\n",
       "3925  CNR6009047264              Other Issue\n",
       "\n",
       "[3926 rows x 2 columns]"
      ]
     },
     "execution_count": 56,
     "metadata": {},
     "output_type": "execute_result"
    }
   ],
   "source": [
    "query = \"\"\"select * from  all_incomplete_rides\"\"\"\n",
    "cur.execute(query)\n",
    "data = cur.fetchall()\n",
    "incomplete_rides = pd.DataFrame(data, columns=['Booking_id','Incomplete_rides_reasons'])\n",
    "incomplete_rides\n",
    "\n"
   ]
  },
  {
   "cell_type": "code",
   "execution_count": null,
   "metadata": {},
   "outputs": [],
   "source": []
  }
 ],
 "metadata": {
  "kernelspec": {
   "display_name": "Python 3",
   "language": "python",
   "name": "python3"
  },
  "language_info": {
   "codemirror_mode": {
    "name": "ipython",
    "version": 3
   },
   "file_extension": ".py",
   "mimetype": "text/x-python",
   "name": "python",
   "nbconvert_exporter": "python",
   "pygments_lexer": "ipython3",
   "version": "3.12.3"
  }
 },
 "nbformat": 4,
 "nbformat_minor": 2
}
